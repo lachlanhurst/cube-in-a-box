{
 "cells": [
  {
   "cell_type": "code",
   "execution_count": 175,
   "metadata": {},
   "outputs": [],
   "source": [
    "import math\n",
    "from pyrt.math import *\n",
    "from pyrt.scene import *\n",
    "from pyrt.geometry import Triangle, Vertex, Sphere\n",
    "from pyrt.camera import PerspectiveCamera\n",
    "from pyrt.renderer import SimpleRT\n",
    "from pyrt.material import PhongMaterial\n",
    "from pyrt.light import PointLight"
   ]
  },
  {
   "cell_type": "code",
   "execution_count": 176,
   "metadata": {},
   "outputs": [],
   "source": [
    "class FlatTriangle(Triangle):\n",
    "    def __init__(self, *args, **kwargs):\n",
    "        super(FlatTriangle, self).__init__(*args, **kwargs)\n",
    "        self.update_normal()\n",
    "    \n",
    "    def update_normal(self):\n",
    "        v1 = self.b.position - self.a.position\n",
    "        v2 = self.c.position - self.a.position\n",
    "        crossprod = cross3(v1, v2)\n",
    "        norm = normalize(crossprod)\n",
    "        \n",
    "        self.a.normal = norm\n",
    "        self.b.normal = norm\n",
    "        self.c.normal = norm\n",
    "        "
   ]
  },
  {
   "cell_type": "code",
   "execution_count": 205,
   "metadata": {},
   "outputs": [],
   "source": [
    "w = int(320*2)\n",
    "h = int(240*2)\n",
    "\n",
    "camera = PerspectiveCamera(w, h, 60)\n",
    "camera.setView(Vec3(-5,-5,8), Vec3(0.5,0.5,3), Vec3(0,0,1))"
   ]
  },
  {
   "cell_type": "code",
   "execution_count": 206,
   "metadata": {},
   "outputs": [],
   "source": [
    "scene = Scene()\n",
    "scene.addLight(PointLight(Vec3(5,-5,3)))\n",
    "\n",
    "scene.add(Sphere(center=Vec3(0.,0.,1.), radius=0.2, material=PhongMaterial(color=Vec3(1.,0.,0.))))\n",
    "scene.add(Sphere(center=Vec3(1.,0.,1.), radius=0.2, material=PhongMaterial(color=Vec3(0.,1.,0.))))\n",
    "scene.add(Sphere(center=Vec3(0.,1.,1.), radius=0.2, material=PhongMaterial(color=Vec3(0.,0.,1.))))\n",
    "\n",
    "def h_func(x,y):\n",
    "    if (x <= 1 or y <= 1) or (y > 5 and y < 8) or (x > 3 and x < 7):\n",
    "        return 0\n",
    "    return (math.sin(x/3.142)*5 + math.sin(y/3.142)*5) / 2\n",
    "\n",
    "skip = 1\n",
    "for y in range(0, 10, skip):\n",
    "    for x in range (0, 10, skip):\n",
    "        v1 = Vertex(position=(x, y, h_func(x, y)))\n",
    "        v2 = Vertex(position=(x+skip, y, h_func(x+skip, y)))\n",
    "        v3 = Vertex(position=(x+skip, y+skip, h_func(x+skip, y+skip)))\n",
    "        v4 = Vertex(position=(x, y+skip, h_func(x, y+skip)))\n",
    "        \n",
    "        scene.add(FlatTriangle(v1, v2, v4))\n",
    "        scene.add(FlatTriangle(v4, v2, v3))\n"
   ]
  },
  {
   "cell_type": "code",
   "execution_count": 207,
   "metadata": {},
   "outputs": [],
   "source": [
    "scene.setCamera(camera)"
   ]
  },
  {
   "cell_type": "code",
   "execution_count": 208,
   "metadata": {},
   "outputs": [
    {
     "name": "stdout",
     "output_type": "stream",
     "text": [
      "# Creating Renderer: Simple Raytracer\n",
      "# Shadow Enabled\n",
      "# Iterations: 6\n"
     ]
    }
   ],
   "source": [
    "engine = SimpleRT(shadow=True, iterations=6)"
   ]
  },
  {
   "cell_type": "code",
   "execution_count": 209,
   "metadata": {},
   "outputs": [
    {
     "name": "stdout",
     "output_type": "stream",
     "text": [
      "# RENDER STATISTICS###############################\n",
      "TIME FOR RENDERING: 454.6890821456909s\n",
      "NUMBER OF PRIMARY RAYS: 307200\n",
      "NUMBER OF SECONDARY RAYS: 0\n",
      "NUMBER OF SHADOW RAYS: 52619\n",
      "RAYS/s: 791.3517481044491\n",
      "##################################################\n"
     ]
    },
    {
     "data": {
      "text/html": [
       "<img src=\"data:image/png;base64,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\"></img>"
      ],
      "text/plain": [
       "<IPython.core.display.HTML object>"
      ]
     },
     "execution_count": 209,
     "metadata": {},
     "output_type": "execute_result"
    }
   ],
   "source": [
    "image = engine.render(scene)\n",
    "image.display()"
   ]
  },
  {
   "cell_type": "code",
   "execution_count": null,
   "metadata": {},
   "outputs": [],
   "source": []
  },
  {
   "cell_type": "code",
   "execution_count": null,
   "metadata": {},
   "outputs": [],
   "source": []
  }
 ],
 "metadata": {
  "kernelspec": {
   "display_name": "Python 3",
   "language": "python",
   "name": "python3"
  },
  "language_info": {
   "codemirror_mode": {
    "name": "ipython",
    "version": 3
   },
   "file_extension": ".py",
   "mimetype": "text/x-python",
   "name": "python",
   "nbconvert_exporter": "python",
   "pygments_lexer": "ipython3",
   "version": "3.6.7"
  }
 },
 "nbformat": 4,
 "nbformat_minor": 2
}
